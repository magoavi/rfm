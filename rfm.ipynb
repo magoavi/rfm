{
 "cells": [
  {
   "cell_type": "raw",
   "metadata": {},
   "source": [
    "<script>\n",
    "  function code_toggle() {\n",
    "    if (code_shown){\n",
    "      $('div.input').hide('500');\n",
    "      $('#toggleButton').val('Show Code')\n",
    "    } else {\n",
    "      $('div.input').show('500');\n",
    "      $('#toggleButton').val('Hide Code')\n",
    "    }\n",
    "    code_shown = !code_shown\n",
    "  }\n",
    "\n",
    "  $( document ).ready(function(){\n",
    "    code_shown=false;\n",
    "    $('div.input').hide()\n",
    "  });\n",
    "</script>\n",
    "<form action=\"javascript:code_toggle()\"><input type=\"submit\" id=\"toggleButton\" value=\"Show Code\"></form>"
   ]
  },
  {
   "cell_type": "markdown",
   "metadata": {},
   "source": [
    "# Recency Frequency Monetary (RFM) Model Implementation<a class='tocSkip'>"
   ]
  },
  {
   "cell_type": "code",
   "execution_count": 1,
   "metadata": {
    "ExecuteTime": {
     "end_time": "2018-06-14T19:35:52.012285Z",
     "start_time": "2018-06-14T19:35:51.259471Z"
    },
    "collapsed": true
   },
   "outputs": [],
   "source": [
    "# Display matplotlib plots\n",
    "%matplotlib inline\n",
    "\n",
    "# Loading Libraries\n",
    "import pandas as pd;\n",
    "import numpy as np;\n",
    "import matplotlib.pyplot as plt;\n",
    "from collections import Counter;\n",
    "import operator;"
   ]
  },
  {
   "cell_type": "markdown",
   "metadata": {
    "ExecuteTime": {
     "end_time": "2018-05-03T15:43:16.547081Z",
     "start_time": "2018-05-03T15:43:16.543644Z"
    }
   },
   "source": [
    "The database used to answer this question was created using [creating_database.sql](supplementary_files/creating_database.sql) file. A \n",
    "\n",
    "\n",
    "The code for this file can be accessed by clicking the button `Show Code` Button on the top of this document or by opening the attached Jupyter file.\n",
    "\n",
    "\n",
    "preview of the structure of the table is presented below:\n",
    "\n",
    "<img src=\"supplementary_files/rfm.pdf\">"
   ]
  },
  {
   "cell_type": "markdown",
   "metadata": {},
   "source": [
    "## Part A"
   ]
  },
  {
   "cell_type": "markdown",
   "metadata": {},
   "source": [
    "### Step 1"
   ]
  },
  {
   "cell_type": "markdown",
   "metadata": {},
   "source": [
    "The following steps were taken to create the view called rfm in the supplementary file - [creating_rfm_view.sql](supplementary_files/creating_rfm_view.sql):\n",
    "\n",
    "* A  training dataset was created by splitting the dataset through time.\n",
    "    \n",
    "    * The training dataset had data from 2005/01/01 to 2015/12/31. The data before this was ignored since the communication for the company started in 2015.\n",
    "    \n",
    "    * Only the catalogue channel was used since we have to optimise by catalogue mailings.\n",
    "         \n",
    "         \n",
    "* Different views for Recency, Frequency and Monetary were created.\n",
    "    \n",
    "    * To create the Recency view, the difference between the maximum order date and 2015/12/31 for all the customers was taken (using group by *cust_id*). All the entries were then sorted in the ascending order of this metric. An N-tile SQL Window function was used to split the data into *quantiles*. In this case this column can be found in the Recency view as *r*.\n",
    "    * To create the Frequency view, distinct order numbers for each user was calculated. This column can be found as 'f' in the frequency view.\n",
    "    * Finally, to create the Monetary view, average expenditure was calculated for each user, and then the N-tile window function was used to split the customers into quantiles.\n",
    "    \n",
    "    \n",
    "* All the different views were then combined using *cust_id*. Results can be found in rfm_pre view.\n",
    "    \n",
    "    * r,f,m were combined using the concat sql function. This view was sorted in decreasing order by using the following command *ORDER BY r DESC, f DESC, m DESC*.\n",
    "    \n",
    "    \n",
    "* Finally, rfm view was created which had *cust_id* and the rfm groupings.\n"
   ]
  },
  {
   "cell_type": "markdown",
   "metadata": {},
   "source": [
    "> **RFM view (First 10 enteries)**"
   ]
  },
  {
   "cell_type": "code",
   "execution_count": 2,
   "metadata": {
    "ExecuteTime": {
     "end_time": "2018-06-14T19:36:01.165234Z",
     "start_time": "2018-06-14T19:36:01.130628Z"
    }
   },
   "outputs": [
    {
     "data": {
      "text/html": [
       "<div>\n",
       "<style scoped>\n",
       "    .dataframe tbody tr th:only-of-type {\n",
       "        vertical-align: middle;\n",
       "    }\n",
       "\n",
       "    .dataframe tbody tr th {\n",
       "        vertical-align: top;\n",
       "    }\n",
       "\n",
       "    .dataframe thead th {\n",
       "        text-align: right;\n",
       "    }\n",
       "</style>\n",
       "<table border=\"1\" class=\"dataframe\">\n",
       "  <thead>\n",
       "    <tr style=\"text-align: right;\">\n",
       "      <th></th>\n",
       "      <th>cust_id</th>\n",
       "      <th>rfm</th>\n",
       "    </tr>\n",
       "  </thead>\n",
       "  <tbody>\n",
       "    <tr>\n",
       "      <th>0</th>\n",
       "      <td>80122261</td>\n",
       "      <td>555</td>\n",
       "    </tr>\n",
       "    <tr>\n",
       "      <th>1</th>\n",
       "      <td>61370030</td>\n",
       "      <td>555</td>\n",
       "    </tr>\n",
       "    <tr>\n",
       "      <th>2</th>\n",
       "      <td>80109834</td>\n",
       "      <td>555</td>\n",
       "    </tr>\n",
       "    <tr>\n",
       "      <th>3</th>\n",
       "      <td>51980180</td>\n",
       "      <td>555</td>\n",
       "    </tr>\n",
       "    <tr>\n",
       "      <th>4</th>\n",
       "      <td>77662754</td>\n",
       "      <td>555</td>\n",
       "    </tr>\n",
       "    <tr>\n",
       "      <th>5</th>\n",
       "      <td>53287061</td>\n",
       "      <td>555</td>\n",
       "    </tr>\n",
       "    <tr>\n",
       "      <th>6</th>\n",
       "      <td>64299989</td>\n",
       "      <td>555</td>\n",
       "    </tr>\n",
       "    <tr>\n",
       "      <th>7</th>\n",
       "      <td>70438213</td>\n",
       "      <td>555</td>\n",
       "    </tr>\n",
       "    <tr>\n",
       "      <th>8</th>\n",
       "      <td>51950369</td>\n",
       "      <td>555</td>\n",
       "    </tr>\n",
       "    <tr>\n",
       "      <th>9</th>\n",
       "      <td>47716532</td>\n",
       "      <td>555</td>\n",
       "    </tr>\n",
       "  </tbody>\n",
       "</table>\n",
       "</div>"
      ],
      "text/plain": [
       "    cust_id  rfm\n",
       "0  80122261  555\n",
       "1  61370030  555\n",
       "2  80109834  555\n",
       "3  51980180  555\n",
       "4  77662754  555\n",
       "5  53287061  555\n",
       "6  64299989  555\n",
       "7  70438213  555\n",
       "8  51950369  555\n",
       "9  47716532  555"
      ]
     },
     "execution_count": 2,
     "metadata": {},
     "output_type": "execute_result"
    }
   ],
   "source": [
    "rfm_view_datapath = r'supplementary_files/rfm.csv'\n",
    "rfm_view = pd.read_csv(rfm_view_datapath)\n",
    "rfm_view.head(10)"
   ]
  },
  {
   "cell_type": "markdown",
   "metadata": {},
   "source": [
    "---"
   ]
  },
  {
   "cell_type": "markdown",
   "metadata": {},
   "source": [
    "### Step 2"
   ]
  },
  {
   "cell_type": "markdown",
   "metadata": {},
   "source": [
    "The next step was now to calculate the response rate for the training dataset. Please refer to the supplementary file - [creating_response_view.sql](supplementary_files/creating_response_view.sql):\n",
    "\n",
    "The main decision for calculating the response rate was to decide the cut-off which will be used to attribute the order to the specific catalogue mailing.\n",
    "\n",
    "To answer this mean, median and mode of the time between customer's order and `Max` contact date was computed. Finally, 10 was used as the cut-off. 10 was choosen because if half of the reorders are given after 13 days then the catalogue must pursuade the buyers to purchase earlier. A range of cut-offs were tried and 10 was chosen on the face value of the results obtained."
   ]
  },
  {
   "cell_type": "markdown",
   "metadata": {},
   "source": [
    ">**Visualisation to decide the cut-off point for categorising an order as a response to the contact made by the company**"
   ]
  },
  {
   "cell_type": "code",
   "execution_count": 3,
   "metadata": {
    "ExecuteTime": {
     "end_time": "2018-06-14T19:36:04.396303Z",
     "start_time": "2018-06-14T19:36:03.024696Z"
    },
    "code_folding": []
   },
   "outputs": [
    {
     "data": {
      "image/png": "[encoded data removed]",
      "text/plain": [
       "<Figure size 864x360 with 2 Axes>"
      ]
     },
     "metadata": {},
     "output_type": "display_data"
    }
   ],
   "source": [
    "# Laoding Data\n",
    "cut_off_datapath = r'supplementary_files/cut_off_decision.csv'\n",
    "cut_off_data = pd.read_csv(cut_off_datapath)\n",
    "\n",
    "dictionary = dict()\n",
    "for i in cut_off_data.lead_time:\n",
    "    if i not in dictionary.keys():\n",
    "        dictionary[i] = 1\n",
    "    else:\n",
    "        dictionary[i] += 1\n",
    "\n",
    "\n",
    "lead_mean=np.mean(cut_off_data.lead_time)\n",
    "lead_median=np.median(cut_off_data.lead_time)\n",
    "mode = max(dictionary, key=lambda k: dictionary[k])\n",
    "cut_off = mode\n",
    "\n",
    "fig = plt.figure(figsize=(12,5))\n",
    "ax = plt.subplot(121)\n",
    "ax.hist(cut_off_data.lead_time, len(dictionary.keys()), density=True, cumulative=True, alpha = 0.45)\n",
    "ax.vlines(lead_mean, ymin=0, ymax=0.75, label= 'Mean Lead Time', colors='red', linestyles='dashed')\n",
    "ax.text(lead_mean+20, .71, 'Mean =' + str(round(lead_mean)))\n",
    "ax.vlines(lead_median, ymin=0, ymax=0.75, label= 'Median Lead Time', linestyles='dashed')\n",
    "ax.text(lead_mean+20, .645, 'Median =' + str(int(lead_median)))\n",
    "ax.vlines(cut_off, ymin=0, ymax=.75, label= 'Mode', linestyles='dashed', colors='green')\n",
    "ax.text(lead_mean+20, .585, 'Mode =' + str(cut_off))\n",
    "ax.set(ylabel='Cumulative Probability', xlabel='Lead Time in Days')\n",
    "ax.tick_params(bottom = False, top = False, left = False, right = False)\n",
    "plt.legend()\n",
    "\n",
    "ax2 = plt.subplot(122)\n",
    "ax2.hist(cut_off_data.lead_time, len(dictionary.keys()), density=True, alpha = 0.45)\n",
    "ax2.tick_params(bottom = False, top = False, left = False, right = False)\n",
    "ax2.set(ylabel='Probability', xlabel='Lead Time in Days')\n",
    "ax2.vlines(cut_off, ymin=0, ymax=.08, label= 'Mode', linestyles='dashed', colors='green')\n",
    "ax2.text(260, .065, 'Mode =' + str(cut_off))\n",
    "plt.legend()\n",
    "\n",
    "plt.suptitle('Cut-off Decision for Classifying Orders as Response')\n",
    "plt.tight_layout(pad=4)\n",
    "plt.show()"
   ]
  },
  {
   "cell_type": "markdown",
   "metadata": {},
   "source": [
    "The visualisation of the cumulative probability and the probability of the lead time of the customer in the training data (2005/01/01 - 2005/12/31) shows the three measures of central tendency - mean, median and mode."
   ]
  },
  {
   "cell_type": "markdown",
   "metadata": {},
   "source": [
    "After deciding the cut-off, the following steps were undertaken to create the optimising view:\n",
    "\n",
    "* A response view was created for the customers that we grouped into RFM categories. The training data was used to do this.\n",
    "\n",
    "    * *CASE WHEN* function in sql was used to categorise the lead time of the customer as a response.\n",
    "    * A summation of the responses grouped by RFM categories was taken to create the *responses_grouped* view. \n",
    "    \n",
    "    \n",
    "* A similar approach was taken for the contacts view. All the contacts made to the customers in the same time range was calculated.\n",
    "\n",
    "    * A summation of the contacts grouped by RFM categories was taken to create the *contacts_grouped* view.\n",
    "    \n",
    "    \n",
    "* The *responses_grouped* view and the *contacts_grouped* view were joined on *rfm* column.\n",
    "    \n",
    "    * The response_rate view shows the calculation used to calculate the response rate. All the responses made by a specific RFM group were divided by the contacts made to that RFM group.\n",
    "    \n",
    "    \n",
    "* Finally, the profits of mailing to the RFM categories were calculated using the information provided on the revenue and cost of mailing.\n",
    "\n",
    "    * Cumulative profits were calculated and a cutoff point till the row where the profits were increasing was used to decide the RFM groups that were going to be targeted in the test data. This approach is also presented in the visualisation below."
   ]
  },
  {
   "cell_type": "markdown",
   "metadata": {},
   "source": [
    "> **Optimizing view (First 10 enteries)**"
   ]
  },
  {
   "cell_type": "code",
   "execution_count": 4,
   "metadata": {
    "ExecuteTime": {
     "end_time": "2018-06-14T19:36:08.567331Z",
     "start_time": "2018-06-14T19:36:08.553588Z"
    }
   },
   "outputs": [
    {
     "data": {
      "text/html": [
       "<div>\n",
       "<style scoped>\n",
       "    .dataframe tbody tr th:only-of-type {\n",
       "        vertical-align: middle;\n",
       "    }\n",
       "\n",
       "    .dataframe tbody tr th {\n",
       "        vertical-align: top;\n",
       "    }\n",
       "\n",
       "    .dataframe thead th {\n",
       "        text-align: right;\n",
       "    }\n",
       "</style>\n",
       "<table border=\"1\" class=\"dataframe\">\n",
       "  <thead>\n",
       "    <tr style=\"text-align: right;\">\n",
       "      <th></th>\n",
       "      <th>rfm</th>\n",
       "      <th>response_rate</th>\n",
       "      <th>total_cost</th>\n",
       "      <th>expected_responses</th>\n",
       "      <th>expected_revenue</th>\n",
       "      <th>expected_profits</th>\n",
       "      <th>cumulative_responses</th>\n",
       "      <th>cumulative_profits</th>\n",
       "    </tr>\n",
       "  </thead>\n",
       "  <tbody>\n",
       "    <tr>\n",
       "      <th>0</th>\n",
       "      <td>451</td>\n",
       "      <td>0.3808</td>\n",
       "      <td>154</td>\n",
       "      <td>58.6432</td>\n",
       "      <td>1759.296</td>\n",
       "      <td>1605.296</td>\n",
       "      <td>58.6432</td>\n",
       "      <td>1605.296</td>\n",
       "    </tr>\n",
       "    <tr>\n",
       "      <th>1</th>\n",
       "      <td>452</td>\n",
       "      <td>0.2865</td>\n",
       "      <td>276</td>\n",
       "      <td>79.0740</td>\n",
       "      <td>2372.220</td>\n",
       "      <td>2096.220</td>\n",
       "      <td>137.7172</td>\n",
       "      <td>3701.516</td>\n",
       "    </tr>\n",
       "    <tr>\n",
       "      <th>2</th>\n",
       "      <td>453</td>\n",
       "      <td>0.2150</td>\n",
       "      <td>286</td>\n",
       "      <td>61.4900</td>\n",
       "      <td>1844.700</td>\n",
       "      <td>1558.700</td>\n",
       "      <td>199.2072</td>\n",
       "      <td>5260.216</td>\n",
       "    </tr>\n",
       "    <tr>\n",
       "      <th>3</th>\n",
       "      <td>454</td>\n",
       "      <td>0.2120</td>\n",
       "      <td>280</td>\n",
       "      <td>59.3600</td>\n",
       "      <td>1780.800</td>\n",
       "      <td>1500.800</td>\n",
       "      <td>258.5672</td>\n",
       "      <td>6761.016</td>\n",
       "    </tr>\n",
       "    <tr>\n",
       "      <th>4</th>\n",
       "      <td>352</td>\n",
       "      <td>0.2081</td>\n",
       "      <td>446</td>\n",
       "      <td>92.8126</td>\n",
       "      <td>2784.378</td>\n",
       "      <td>2338.378</td>\n",
       "      <td>351.3798</td>\n",
       "      <td>9099.394</td>\n",
       "    </tr>\n",
       "    <tr>\n",
       "      <th>5</th>\n",
       "      <td>413</td>\n",
       "      <td>0.2045</td>\n",
       "      <td>325</td>\n",
       "      <td>66.4625</td>\n",
       "      <td>1993.875</td>\n",
       "      <td>1668.875</td>\n",
       "      <td>417.8423</td>\n",
       "      <td>10768.269</td>\n",
       "    </tr>\n",
       "    <tr>\n",
       "      <th>6</th>\n",
       "      <td>441</td>\n",
       "      <td>0.1915</td>\n",
       "      <td>68</td>\n",
       "      <td>13.0220</td>\n",
       "      <td>390.660</td>\n",
       "      <td>322.660</td>\n",
       "      <td>430.8643</td>\n",
       "      <td>11090.929</td>\n",
       "    </tr>\n",
       "    <tr>\n",
       "      <th>7</th>\n",
       "      <td>552</td>\n",
       "      <td>0.1896</td>\n",
       "      <td>367</td>\n",
       "      <td>69.5832</td>\n",
       "      <td>2087.496</td>\n",
       "      <td>1720.496</td>\n",
       "      <td>500.4475</td>\n",
       "      <td>12811.425</td>\n",
       "    </tr>\n",
       "    <tr>\n",
       "      <th>8</th>\n",
       "      <td>455</td>\n",
       "      <td>0.1885</td>\n",
       "      <td>228</td>\n",
       "      <td>42.9780</td>\n",
       "      <td>1289.340</td>\n",
       "      <td>1061.340</td>\n",
       "      <td>543.4255</td>\n",
       "      <td>13872.765</td>\n",
       "    </tr>\n",
       "    <tr>\n",
       "      <th>9</th>\n",
       "      <td>351</td>\n",
       "      <td>0.1877</td>\n",
       "      <td>360</td>\n",
       "      <td>67.5720</td>\n",
       "      <td>2027.160</td>\n",
       "      <td>1667.160</td>\n",
       "      <td>610.9975</td>\n",
       "      <td>15539.925</td>\n",
       "    </tr>\n",
       "  </tbody>\n",
       "</table>\n",
       "</div>"
      ],
      "text/plain": [
       "   rfm  response_rate  total_cost  expected_responses  expected_revenue  \\\n",
       "0  451         0.3808         154             58.6432          1759.296   \n",
       "1  452         0.2865         276             79.0740          2372.220   \n",
       "2  453         0.2150         286             61.4900          1844.700   \n",
       "3  454         0.2120         280             59.3600          1780.800   \n",
       "4  352         0.2081         446             92.8126          2784.378   \n",
       "5  413         0.2045         325             66.4625          1993.875   \n",
       "6  441         0.1915          68             13.0220           390.660   \n",
       "7  552         0.1896         367             69.5832          2087.496   \n",
       "8  455         0.1885         228             42.9780          1289.340   \n",
       "9  351         0.1877         360             67.5720          2027.160   \n",
       "\n",
       "   expected_profits  cumulative_responses  cumulative_profits  \n",
       "0          1605.296               58.6432            1605.296  \n",
       "1          2096.220              137.7172            3701.516  \n",
       "2          1558.700              199.2072            5260.216  \n",
       "3          1500.800              258.5672            6761.016  \n",
       "4          2338.378              351.3798            9099.394  \n",
       "5          1668.875              417.8423           10768.269  \n",
       "6           322.660              430.8643           11090.929  \n",
       "7          1720.496              500.4475           12811.425  \n",
       "8          1061.340              543.4255           13872.765  \n",
       "9          1667.160              610.9975           15539.925  "
      ]
     },
     "execution_count": 4,
     "metadata": {},
     "output_type": "execute_result"
    }
   ],
   "source": [
    "optimizing_view_datapath = r'supplementary_files/optimizing.csv'\n",
    "optimizing_view = pd.read_csv(optimizing_view_datapath)\n",
    "optimizing_view.head(10)"
   ]
  },
  {
   "cell_type": "markdown",
   "metadata": {},
   "source": [
    ">**Gain Chart to decide the RFM groups to mail in the training dataset (>2006/01/01) to decide RFM cut-off**"
   ]
  },
  {
   "cell_type": "code",
   "execution_count": 6,
   "metadata": {
    "ExecuteTime": {
     "end_time": "2018-05-03T23:26:19.486584Z",
     "start_time": "2018-05-03T23:26:19.158740Z"
    }
   },
   "outputs": [
    {
     "data": {
      "image/png": "[encoded data removed]",
      "text/plain": [
       "<Figure size 864x360 with 2 Axes>"
      ]
     },
     "metadata": {},
     "output_type": "display_data"
    }
   ],
   "source": [
    "# Laoding Data\n",
    "gain_chart_datapath = r'supplementary_files/gain_chart.csv'\n",
    "gain_chart_data=pd.read_csv(gain_chart_datapath)\n",
    "x = list(range(1,126))\n",
    "gain_chart_data['index'] = x\n",
    "\n",
    "# Plotting Maximum point\n",
    "maximum_point = max(gain_chart_data.cumulative_profits)\n",
    "maximum_point_prop = 0\n",
    "for index, i in enumerate(gain_chart_data.cumulative_profits):\n",
    "    if i == maximum_point:\n",
    "        maximum_point_prop=gain_chart_data.cumulative_proportion[index]\n",
    "maximum_rfm= 0\n",
    "for index, i in enumerate(gain_chart_data.cumulative_profits):\n",
    "    if i == maximum_point:\n",
    "        maximum_rfm=gain_chart_data.rfm[index]\n",
    "maximum_index= 0\n",
    "for index, i in enumerate(gain_chart_data.cumulative_profits):\n",
    "    if i == maximum_point:\n",
    "        maximum_index=gain_chart_data.index[index]     \n",
    "    \n",
    "    \n",
    "# X-axis adjustment\n",
    "rfm = list(gain_chart_data.rfm)\n",
    "\n",
    "# Plotting\n",
    "fig = plt.figure(figsize=(12,5))\n",
    "ax = plt.subplot(121)\n",
    "ax.plot(gain_chart_data.cumulative_proportion, gain_chart_data.cumulative_profits)\n",
    "ax.tick_params(bottom = False, top = False, left = False, right = False)\n",
    "ax.set(ylabel='Profits', xlabel='Proportion of People Mailed')\n",
    "ax.hlines(maximum_point, xmin=0, xmax=1, colors='red', linestyles='dashed')\n",
    "ax.vlines(maximum_point_prop, ymin=0, ymax=maximum_point, linestyles='dashed', colors='red')\n",
    "ax.text(maximum_point_prop+0.01, maximum_point-30000, '(' + str(round(maximum_point_prop,2)) + ',' +  str(round(maximum_point)) + ')')    \n",
    "\n",
    "ax2 = plt.subplot(122)\n",
    "ax2.plot(x, gain_chart_data.cumulative_profits)\n",
    "ax2.set_xticklabels(rfm, rotation = 0.0)\n",
    "ax2.tick_params(bottom = False, top = False, left = False, right = False)\n",
    "ax2.set(ylabel='Profits', xlabel='RFM Groups Sorted According to Response Rate in Decreasing Order')\n",
    "ax2.hlines(maximum_point, xmin=1, xmax=125, colors='red', linestyles='dashed')\n",
    "ax2.vlines(maximum_index, ymin=0, ymax=maximum_point, linestyles='dashed', colors='red')\n",
    "ax2.text(maximum_index + 1, maximum_point-30000, '(' + str(maximum_rfm) + ',' +  str(round(maximum_point)) + ')')    \n",
    "\n",
    "plt.suptitle('Gain Chart')\n",
    "plt.tight_layout(pad = 4)\n",
    "plt.show()"
   ]
  },
  {
   "cell_type": "markdown",
   "metadata": {
    "ExecuteTime": {
     "end_time": "2018-05-02T13:39:39.377167Z",
     "start_time": "2018-05-02T13:39:39.373691Z"
    }
   },
   "source": [
    "---"
   ]
  },
  {
   "cell_type": "markdown",
   "metadata": {},
   "source": [
    "### Step 3"
   ]
  },
  {
   "cell_type": "markdown",
   "metadata": {},
   "source": [
    "After deciding the RFM groups to target, this strategy was tested out on the test dataset (>2006/01/01). To calculate the final return on investment please follow [creating_roi_view.sql](supplementary_files/creating_roi_view.sql).\n",
    "\n",
    "To calculate the final ROI the following steps were undertaken:\n",
    "\n",
    "* A contacted view was created which had all *cust_id* for all the customers that were going to be targeted.\n",
    "    \n",
    "    * A N-Tile(125) function was used to sort the RFM groups according to the response rate. This was done so that only the RFM groups above the cut-off points could be isolated out and contacted.\n",
    "    \n",
    "\n",
    "* Responses for the customers classified in the RFM groups were identified if the order date - contact date was within the first 10 days. \n",
    "\n",
    "    * These resposnses were then grouped according to the RFM groups (test_total_response_by_rfm_group).\n",
    "    \n",
    "    \n",
    "* A similar approach was taken for the contacts as explained in the training dataset. Contacts made only to the RFM groups were calculated and summed to create the view test_total_contacts_by_rfm_group.\n",
    "\n",
    "\n",
    "* The grouped contacts view and the response view were joined on rfm.\n",
    "\n",
    "    * This was done to calculate the response rate per RFM group.\n",
    "    \n",
    "    \n",
    "* Finally the ROI was calculated (as shown below). For more information please refer to the end of the [creating_roi_view.sql](supplementary_files/creating_roi_view.sql) file.\n",
    "\n"
   ]
  },
  {
   "cell_type": "markdown",
   "metadata": {},
   "source": [
    "---"
   ]
  },
  {
   "cell_type": "markdown",
   "metadata": {},
   "source": [
    "### Results (ROI and Lift Chart)"
   ]
  },
  {
   "cell_type": "markdown",
   "metadata": {},
   "source": [
    "**ROI after RFM targetting**"
   ]
  },
  {
   "cell_type": "code",
   "execution_count": 7,
   "metadata": {
    "ExecuteTime": {
     "end_time": "2018-05-03T23:26:19.500415Z",
     "start_time": "2018-05-03T23:26:19.488534Z"
    }
   },
   "outputs": [
    {
     "data": {
      "text/html": [
       "<div>\n",
       "<style scoped>\n",
       "    .dataframe tbody tr th:only-of-type {\n",
       "        vertical-align: middle;\n",
       "    }\n",
       "\n",
       "    .dataframe tbody tr th {\n",
       "        vertical-align: top;\n",
       "    }\n",
       "\n",
       "    .dataframe thead th {\n",
       "        text-align: right;\n",
       "    }\n",
       "</style>\n",
       "<table border=\"1\" class=\"dataframe\">\n",
       "  <thead>\n",
       "    <tr style=\"text-align: right;\">\n",
       "      <th></th>\n",
       "      <th>total_contacts</th>\n",
       "      <th>total_responses</th>\n",
       "      <th>total_reveue</th>\n",
       "      <th>total_profit</th>\n",
       "      <th>roi</th>\n",
       "    </tr>\n",
       "  </thead>\n",
       "  <tbody>\n",
       "    <tr>\n",
       "      <th>0</th>\n",
       "      <td>263571</td>\n",
       "      <td>9637</td>\n",
       "      <td>289110</td>\n",
       "      <td>25539</td>\n",
       "      <td>9.69</td>\n",
       "    </tr>\n",
       "  </tbody>\n",
       "</table>\n",
       "</div>"
      ],
      "text/plain": [
       "   total_contacts  total_responses  total_reveue  total_profit   roi\n",
       "0          263571             9637        289110         25539  9.69"
      ]
     },
     "execution_count": 7,
     "metadata": {},
     "output_type": "execute_result"
    }
   ],
   "source": [
    "roi_datapath = r'supplementary_files/roi.csv'\n",
    "roi = pd.read_csv(roi_datapath)\n",
    "roi"
   ]
  },
  {
   "cell_type": "markdown",
   "metadata": {},
   "source": [
    "**ROI after sending a mail to all or after applying random sampling**"
   ]
  },
  {
   "cell_type": "code",
   "execution_count": 8,
   "metadata": {
    "ExecuteTime": {
     "end_time": "2018-05-03T23:26:19.511162Z",
     "start_time": "2018-05-03T23:26:19.501588Z"
    }
   },
   "outputs": [
    {
     "data": {
      "text/html": [
       "<div>\n",
       "<style scoped>\n",
       "    .dataframe tbody tr th:only-of-type {\n",
       "        vertical-align: middle;\n",
       "    }\n",
       "\n",
       "    .dataframe tbody tr th {\n",
       "        vertical-align: top;\n",
       "    }\n",
       "\n",
       "    .dataframe thead th {\n",
       "        text-align: right;\n",
       "    }\n",
       "</style>\n",
       "<table border=\"1\" class=\"dataframe\">\n",
       "  <thead>\n",
       "    <tr style=\"text-align: right;\">\n",
       "      <th></th>\n",
       "      <th>total_contacts</th>\n",
       "      <th>total_responses</th>\n",
       "      <th>total_reveue</th>\n",
       "      <th>total_profit</th>\n",
       "      <th>roi</th>\n",
       "    </tr>\n",
       "  </thead>\n",
       "  <tbody>\n",
       "    <tr>\n",
       "      <th>0</th>\n",
       "      <td>349876</td>\n",
       "      <td>11197</td>\n",
       "      <td>335910</td>\n",
       "      <td>-13966</td>\n",
       "      <td>-3.99</td>\n",
       "    </tr>\n",
       "  </tbody>\n",
       "</table>\n",
       "</div>"
      ],
      "text/plain": [
       "   total_contacts  total_responses  total_reveue  total_profit   roi\n",
       "0          349876            11197        335910        -13966 -3.99"
      ]
     },
     "execution_count": 8,
     "metadata": {},
     "output_type": "execute_result"
    }
   ],
   "source": [
    "roi_all_datapath = r'supplementary_files/roi_all.csv'\n",
    "roi_all = pd.read_csv(roi_all_datapath)\n",
    "roi_all"
   ]
  },
  {
   "cell_type": "markdown",
   "metadata": {},
   "source": [
    ">**Lift chart to see how the RFM targeting has performed against a random targeting approach**"
   ]
  },
  {
   "cell_type": "markdown",
   "metadata": {},
   "source": [
    "The lift chart here shows that the RFM targetting performs better compared to random mailing or mailing to everyone. "
   ]
  },
  {
   "cell_type": "code",
   "execution_count": 9,
   "metadata": {
    "ExecuteTime": {
     "end_time": "2018-05-03T23:26:19.716945Z",
     "start_time": "2018-05-03T23:26:19.512819Z"
    },
    "scrolled": true
   },
   "outputs": [
    {
     "data": {
      "image/png": "[encoded data removed]",
      "text/plain": [
       "<Figure size 576x360 with 1 Axes>"
      ]
     },
     "metadata": {},
     "output_type": "display_data"
    }
   ],
   "source": [
    "# Loading Data\n",
    "lift_data_path = r'supplementary_files/lift.csv'\n",
    "lift_data = pd.read_csv(lift_data_path)\n",
    "\n",
    "# Calculating average response rate\n",
    "avg_response_rate = np.mean(lift_data.response_rate)\n",
    "\n",
    "# Plotting Data Prep\n",
    "p1 = [0,1]\n",
    "p2 = [0,lift_data.cumulative_responses[124]]\n",
    "cumulative_response_list = [0]\n",
    "cumulative_proportion_list = [0]\n",
    "for i in lift_data.cumulative_responses:\n",
    "    cumulative_response_list.append(i)\n",
    "for i in lift_data.cumulative_proportion:\n",
    "    cumulative_proportion_list.append(i)\n",
    "\n",
    "# Plotting\n",
    "fig = plt.figure(figsize=(8,5))\n",
    "ax = plt.subplot(111)\n",
    "ax.plot(cumulative_proportion_list, cumulative_response_list, label = 'RFM Targeting')\n",
    "ax.plot(p1, p2, label = 'Random Targeting')\n",
    "ax.set(ylabel='Total Responses', xlabel='Proportion of Total Contacts in Decending Order of the Train Response Rate Result')\n",
    "ax.tick_params(bottom = False, top = False, left = False, right = False)\n",
    "plt.legend()\n",
    "plt.suptitle('Lift Chart for Test Data')\n",
    "plt.tight_layout(pad = 4)"
   ]
  },
  {
   "cell_type": "markdown",
   "metadata": {
    "ExecuteTime": {
     "end_time": "2018-05-02T13:41:00.387520Z",
     "start_time": "2018-05-02T13:41:00.384030Z"
    },
    "collapsed": true
   },
   "source": [
    "---"
   ]
  },
  {
   "cell_type": "markdown",
   "metadata": {},
   "source": [
    "##  Part B"
   ]
  },
  {
   "cell_type": "markdown",
   "metadata": {},
   "source": [
    "A similar data split was used in this section to make the findings consistent. So training dataset contained observations between 2005 and 2006 and the test dataset had all observations after 2006/01/01. All the steps used to construct the analysis below can be found in the [rfm_addition.sql](supplementary_files/rfm_addition.sql) file."
   ]
  },
  {
   "cell_type": "markdown",
   "metadata": {},
   "source": [
    "---"
   ]
  },
  {
   "cell_type": "markdown",
   "metadata": {
    "ExecuteTime": {
     "end_time": "2018-05-03T11:28:55.308387Z",
     "start_time": "2018-05-03T11:28:55.305148Z"
    }
   },
   "source": [
    "###  Justification based on business sense"
   ]
  },
  {
   "cell_type": "markdown",
   "metadata": {},
   "source": [
    "Another dimension which can be used to do the targeting can be **average spend by zip code**. This measure will capture the high spending areas and will allow the business to promote its product in a neighbourhood. This adds to the RFM targetting as people living in the same neighbourhood might share some network effects. Thus adopting this strategy will allow the business to take advantage of word-of-mouth."
   ]
  },
  {
   "cell_type": "markdown",
   "metadata": {},
   "source": [
    "---"
   ]
  },
  {
   "cell_type": "markdown",
   "metadata": {
    "ExecuteTime": {
     "end_time": "2018-05-03T11:29:51.537954Z",
     "start_time": "2018-05-03T11:29:51.534764Z"
    }
   },
   "source": [
    "###  Justification based on validation sample"
   ]
  },
  {
   "cell_type": "markdown",
   "metadata": {},
   "source": [
    "Similar steps were followed as discussed in part a to calculate the roi and create a lift chart. Although the lift chart is not directly comparable, since there were a lot more categories compared to 125 categories in RFM targetting, it still shows a similar performance compared to the RFM targetting. We can see that there was an improvement of 1% in the final ROI."
   ]
  },
  {
   "cell_type": "markdown",
   "metadata": {},
   "source": [
    ">**Gain Chart to decide the RFM groups to mail in the training dataset (>2006/01/01) to decide RFM cut-off**"
   ]
  },
  {
   "cell_type": "code",
   "execution_count": 5,
   "metadata": {
    "ExecuteTime": {
     "end_time": "2018-06-14T19:36:27.085999Z",
     "start_time": "2018-06-14T19:36:26.791938Z"
    }
   },
   "outputs": [
    {
     "data": {
      "image/png": "[encoded data removed]",
      "text/plain": [
       "<Figure size 864x360 with 2 Axes>"
      ]
     },
     "metadata": {},
     "output_type": "display_data"
    }
   ],
   "source": [
    "# Laoding Data\n",
    "gain_chart_datapath = r'supplementary_files/gain_chart_2b.csv'\n",
    "gain_chart_data=pd.read_csv(gain_chart_datapath)\n",
    "x = list(range(1,len(gain_chart_data) + 1))\n",
    "gain_chart_data['index'] = x\n",
    "\n",
    "# Plotting Maximum point\n",
    "maximum_point = max(gain_chart_data.cumulative_profits)\n",
    "maximum_point_prop = 0\n",
    "for index, i in enumerate(gain_chart_data.cumulative_profits):\n",
    "    if i == maximum_point:\n",
    "        maximum_point_prop=gain_chart_data.cumulative_proportion[index]\n",
    "maximum_rfmz= 0\n",
    "for index, i in enumerate(gain_chart_data.cumulative_profits):\n",
    "    if i == maximum_point:\n",
    "        maximum_rfmz=gain_chart_data.rfmz[index]\n",
    "maximum_index= 0\n",
    "for index, i in enumerate(gain_chart_data.cumulative_profits):\n",
    "    if i == maximum_point:\n",
    "        maximum_index=gain_chart_data.index[index]     \n",
    "    \n",
    "    \n",
    "# X-axis adjustment\n",
    "rfmz = list(gain_chart_data.rfmz)\n",
    "\n",
    "# Plotting\n",
    "fig = plt.figure(figsize=(12,5))\n",
    "ax = plt.subplot(121)\n",
    "ax.plot(gain_chart_data.cumulative_proportion, gain_chart_data.cumulative_profits)\n",
    "ax.tick_params(bottom = False, top = False, left = False, right = False)\n",
    "ax.set(ylabel='Profits', xlabel='Proportion of People Mailed')\n",
    "ax.hlines(maximum_point, xmin=0, xmax=1, colors='red', linestyles='dashed')\n",
    "ax.vlines(maximum_point_prop, ymin=0, ymax=maximum_point, linestyles='dashed', colors='red')\n",
    "ax.text(maximum_point_prop+0.01, maximum_point-30000, '(' + str(round(maximum_point_prop,2)) + ',' +  str(round(maximum_point)) + ')')    \n",
    "\n",
    "ax2 = plt.subplot(122)\n",
    "ax2.plot(x, gain_chart_data.cumulative_profits)\n",
    "ax2.set_xticklabels(rfmz, rotation = 0.0)\n",
    "ax2.tick_params(bottom = False, top = False, left = False, right = False)\n",
    "ax2.set(ylabel='Profits', xlabel='RFMZ Groups Sorted According to Response Rate in Decreasing Order')\n",
    "ax2.hlines(maximum_point, xmin=1, xmax=555, colors='red', linestyles='dashed')\n",
    "ax2.vlines(maximum_index, ymin=0, ymax=maximum_point, linestyles='dashed', colors='red')\n",
    "ax2.text(maximum_index + 1, maximum_point-30000, '(' + str(maximum_rfmz) + ',' +  str(round(maximum_point)) + ')')    \n",
    "\n",
    "plt.suptitle('Gain Chart')\n",
    "plt.tight_layout(pad = 4)\n",
    "plt.show()"
   ]
  },
  {
   "cell_type": "code",
   "execution_count": 9,
   "metadata": {
    "ExecuteTime": {
     "end_time": "2018-05-03T22:50:51.198148Z",
     "start_time": "2018-05-03T22:50:50.994624Z"
    },
    "scrolled": true
   },
   "outputs": [
    {
     "data": {
      "image/png": "[encoded data removed]",
      "text/plain": [
       "<Figure size 576x360 with 1 Axes>"
      ]
     },
     "metadata": {},
     "output_type": "display_data"
    }
   ],
   "source": [
    "# Loading Data\n",
    "lift_data_path_2b = r'supplementary_files/lift_2b_avg.csv'\n",
    "lift_data_2b = pd.read_csv(lift_data_path_2b)\n",
    "\n",
    "# Plotting Data Prep\n",
    "cumulative_response_list_2b = [0]\n",
    "cumulative_proportion_list_2b = [0]\n",
    "for i in lift_data_2b.cumulative_responses:\n",
    "    cumulative_response_list_2b.append(i)\n",
    "for i in lift_data_2b.cumulative_proportion:\n",
    "    cumulative_proportion_list_2b.append(i)\n",
    "\n",
    "# data Prep    \n",
    "# cumulative_response_list_2b_updated = [0]\n",
    "# cumulative_proportion_list_2b_updated = [0]\n",
    "# for index,i in enumerate(lift_data.cumulative_proportion):\n",
    "#     cumulative_proportion_loop = 0\n",
    "#     cumulative_response_loop = 0\n",
    "#     while i >= cumulative_proportion_loop:\n",
    "#         c = 0\n",
    "#         cumulative_proportion_loop = cumulative_proportion_loop + lift_data_2b.cumulative_proportion[c]\n",
    "#         cumulative_response_loop = cumulative_response_loop + lift_data_2b.cumulative_responses[c]\n",
    "#         c += 1\n",
    "#     cumulative_proportion_list_2b_updated.append(cumulative_proportion_loop)\n",
    "#     cumulative_response_list_2b_updated.append(cumulative_response_loop)\n",
    "\n",
    "# Plotting\n",
    "fig = plt.figure(figsize=(8,5))\n",
    "ax = plt.subplot(111)\n",
    "ax.plot(cumulative_proportion_list, cumulative_response_list, label = 'RFM Targeting')\n",
    "ax.plot(cumulative_proportion_list_2b, cumulative_response_list_2b, label = 'RFMZ Targeting')\n",
    "ax.plot(p1, p2, label = 'Random Targeting')\n",
    "ax.set(ylabel='Total Responses', xlabel='Proportion of Total Contacts in Decending Order of the Train Response Rate Result')\n",
    "ax.tick_params(bottom = False, top = False, left = False, right = False)\n",
    "plt.legend()\n",
    "plt.suptitle('Lift Chart for Test Data')\n",
    "plt.tight_layout(pad = 4)"
   ]
  },
  {
   "cell_type": "markdown",
   "metadata": {},
   "source": [
    ">**ROI after RFMZ targetting**"
   ]
  },
  {
   "cell_type": "code",
   "execution_count": 11,
   "metadata": {
    "ExecuteTime": {
     "end_time": "2018-05-03T23:26:34.156591Z",
     "start_time": "2018-05-03T23:26:34.147916Z"
    }
   },
   "outputs": [
    {
     "data": {
      "text/html": [
       "<div>\n",
       "<style scoped>\n",
       "    .dataframe tbody tr th:only-of-type {\n",
       "        vertical-align: middle;\n",
       "    }\n",
       "\n",
       "    .dataframe tbody tr th {\n",
       "        vertical-align: top;\n",
       "    }\n",
       "\n",
       "    .dataframe thead th {\n",
       "        text-align: right;\n",
       "    }\n",
       "</style>\n",
       "<table border=\"1\" class=\"dataframe\">\n",
       "  <thead>\n",
       "    <tr style=\"text-align: right;\">\n",
       "      <th></th>\n",
       "      <th>total_contacts</th>\n",
       "      <th>total_responses</th>\n",
       "      <th>total_reveue</th>\n",
       "      <th>total_profit</th>\n",
       "      <th>roi</th>\n",
       "    </tr>\n",
       "  </thead>\n",
       "  <tbody>\n",
       "    <tr>\n",
       "      <th>0</th>\n",
       "      <td>256399</td>\n",
       "      <td>9450</td>\n",
       "      <td>283500</td>\n",
       "      <td>27101</td>\n",
       "      <td>10.57</td>\n",
       "    </tr>\n",
       "  </tbody>\n",
       "</table>\n",
       "</div>"
      ],
      "text/plain": [
       "   total_contacts  total_responses  total_reveue  total_profit    roi\n",
       "0          256399             9450        283500         27101  10.57"
      ]
     },
     "execution_count": 11,
     "metadata": {},
     "output_type": "execute_result"
    }
   ],
   "source": [
    "roi_rfmz_datapath = r'supplementary_files/roi_rfmz.csv'\n",
    "roi_rfmz = pd.read_csv(roi_rfmz_datapath)\n",
    "roi_rfmz"
   ]
  },
  {
   "cell_type": "markdown",
   "metadata": {},
   "source": [
    "**RFMZ targetting improves the roi by approximately one percent.**"
   ]
  },
  {
   "cell_type": "markdown",
   "metadata": {},
   "source": [
    "---"
   ]
  },
  {
   "cell_type": "raw",
   "metadata": {},
   "source": [
    "<script>\n",
    "  $(document).ready(function(){\n",
    "    $('div.prompt').hide();\n",
    "    $('div.back-to-top').hide();\n",
    "    $('nav#menubar').hide();\n",
    "    $('.breadcrumb').hide();\n",
    "    $('.hidden-print').hide();\n",
    "  });\n",
    "</script>\n",
    "\n",
    "<footer id=\"attribution\" style=\"float:right; color:#999; background:#fff;\">\n",
    "</footer>"
   ]
  }
 ],
 "metadata": {
  "kernelspec": {
   "display_name": "Python 3",
   "language": "python",
   "name": "python3"
  },
  "language_info": {
   "codemirror_mode": {
    "name": "ipython",
    "version": 3
   },
   "file_extension": ".py",
   "mimetype": "text/x-python",
   "name": "python",
   "nbconvert_exporter": "python",
   "pygments_lexer": "ipython3",
   "version": "3.6.4"
  },
  "toc": {
   "base_numbering": 1,
   "nav_menu": {},
   "number_sections": true,
   "sideBar": true,
   "skip_h1_title": false,
   "title_cell": "Table of Contents",
   "title_sidebar": "Contents",
   "toc_cell": false,
   "toc_position": {},
   "toc_section_display": true,
   "toc_window_display": false
  },
  "varInspector": {
   "cols": {
    "lenName": 16,
    "lenType": 16,
    "lenVar": 40
   },
   "kernels_config": {
    "python": {
     "delete_cmd_postfix": "",
     "delete_cmd_prefix": "del ",
     "library": "var_list.py",
     "varRefreshCmd": "print(var_dic_list())"
    },
    "r": {
     "delete_cmd_postfix": ") ",
     "delete_cmd_prefix": "rm(",
     "library": "var_list.r",
     "varRefreshCmd": "cat(var_dic_list()) "
    }
   },
   "types_to_exclude": [
    "module",
    "function",
    "builtin_function_or_method",
    "instance",
    "_Feature"
   ],
   "window_display": false
  }
 },
 "nbformat": 4,
 "nbformat_minor": 2
}
